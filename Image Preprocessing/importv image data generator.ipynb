{
 "cells": [
  {
   "cell_type": "markdown",
   "metadata": {},
   "source": [
    "{ “nbformat”: 4, “nbformat_minor”: 0, “metadata”: { “colab”: {\n",
    "“provenance”: \\[\\] }, “kernelspec”: { “name”: “python3”, “display_name”:\n",
    "“Python 3” }, “language_info”: { “name”: “python” } }, “cells”: \\[ {\n",
    "“cell_type”: “code”, “execution_count”: 3, “metadata”: { “id”:\n",
    "“iy2QXRwJeOqr” }, “outputs”: \\[\\], “source”: \\[ “from\n",
    "tensorflow.keras.preprocessing.image import ImageDataGenerator” \\] }, {\n",
    "“cell_type”: “code”, “source”: \\[ “\\# Training Datagen”, “train_datagen\n",
    "=\n",
    "ImageDataGenerator(rescale=1/255,zoom_range=0.2,horizontal_flip=True,vertical_flip=False)”,\n",
    "“\\# Testing Datagen”, “test_datagen = ImageDataGenerator(rescale=1/255)”\n",
    "\\], “metadata”: { “id”: “AdFUXM70fmPj” }, “execution_count”: 4,\n",
    "“outputs”: \\[\\] } \\] }"
   ]
  }
 ],
 "nbformat": 4,
 "nbformat_minor": 5,
 "metadata": {}
}
